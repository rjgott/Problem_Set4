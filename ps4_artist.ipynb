{
 "cells": [
  {
   "cell_type": "code",
   "execution_count": null,
   "metadata": {},
   "outputs": [],
   "source": [
    "#!/user/bin/env python\n",
    "\n",
    "###Use Songsterr API to find songs from searching a musical artist name that has music tablature on Songsterr. Reports song name and type of tabs available for each song.\n",
    "\n",
    "#IMPORTANT - artist names with multiple words need to be inputed within quotations to search for song lists.\n",
    "\n",
    "import urllib.request, urllib.parse, urllib.error\n",
    "import json\n",
    "\n",
    "serviceurl = 'http://www.songsterr.com/a/ra/songs/byartists.json'\n",
    "\n",
    "while True:\n",
    "    artist = input('Enter an artist: ')\n",
    "    if len(artist) < 1: break\n",
    "\n",
    "    url = serviceurl + \"?\" + urllib.parse.urlencode(\n",
    "        {'artists': artist})\n",
    "    \n",
    "    print('Retrieving', url)\n",
    "    uh = urllib.request.urlopen(url)\n",
    "    data = uh.read().decode()\n",
    "    print('Retrieved', len(data), \"characters\")\n",
    "\n",
    "    try:\n",
    "        js = json.loads(data)\n",
    "    except:\n",
    "        js = None\n",
    "\n",
    "    for song in js:\n",
    "        print('Song Title:', song['title'])\n",
    "        print('Tab type(s) available:', song['tabTypes'])\n",
    "\n",
    "##check json data structure with print(data) to find other fields to print"
   ]
  }
 ],
 "metadata": {
  "kernelspec": {
   "display_name": "Python 3.10.7 64-bit",
   "language": "python",
   "name": "python3"
  },
  "language_info": {
   "codemirror_mode": {
    "name": "ipython",
    "version": 3
   },
   "file_extension": ".py",
   "mimetype": "text/x-python",
   "name": "python",
   "nbconvert_exporter": "python",
   "pygments_lexer": "ipython3",
   "version": "3.10.7"
  },
  "orig_nbformat": 4,
  "vscode": {
   "interpreter": {
    "hash": "aee8b7b246df8f9039afb4144a1f6fd8d2ca17a180786b69acc140d282b71a49"
   }
  }
 },
 "nbformat": 4,
 "nbformat_minor": 2
}
